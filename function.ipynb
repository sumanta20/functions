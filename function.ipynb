{
  "nbformat": 4,
  "nbformat_minor": 0,
  "metadata": {
    "colab": {
      "provenance": []
    },
    "kernelspec": {
      "name": "python3",
      "display_name": "Python 3"
    },
    "language_info": {
      "name": "python"
    }
  },
  "cells": [
    {
      "cell_type": "code",
      "execution_count": null,
      "metadata": {
        "id": "zeAVqCsm3G9H"
      },
      "outputs": [],
      "source": []
    },
    {
      "cell_type": "markdown",
      "source": [
        "1. What is the difference between a function and a method in Python?\n",
        "   - a function is a reusable block of code that performs a specific task and can be called by its name, while a method is a function that is associated with an object or class and is called using dot notation\n",
        "\n",
        "2. Explain the concept of function arguments and parameters in Python.   \n",
        "   - Parameters are placeholders in a function definition and Arguments are the actual values you pass to the function when calling it.\n",
        "\n",
        "   def greet(name):  # 'name' is a parameter\n",
        "    print(f\"Hello, {name}!\")\n",
        "\n",
        "   greet(\"Alice\")     # \"Alice\" is an argument\n",
        "\n",
        "3. What are the different ways to define and call a function in Python?\n",
        "   - n Python, you define functions using the def keyword, followed by the function name, parentheses for potential arguments, and a colon, then indent the function body. To call a function, simply use its name followed by parentheses, optionally with arguments.\n",
        "\n",
        "4. What is the purpose of the return statement in a Python function?\n",
        "   - The return statement in a Python function is used to send a value (or multiple values) back to the caller. It ends the function execution and specifies what value should be returned.\n",
        "\n",
        "5. What are iterators in Python and how do they differ from iterables?\n",
        "   - An Iterable is basically an object that any user can iterate over. An Iterator is also an object that helps a user in iterating over another object (that is iterable). We can generate an iterator when we pass the object to the iter() method.\n",
        "\n",
        "6. Explain the concept of generators in Python and how they are defined.\n",
        "   - A generator is a type of iterator that allows you to iterate over a sequence of values one at a time, only as needed. Unlike regular functions, which return all the data at once, generators yield values one by one, which makes them memory efficient.\n",
        "\n",
        "   You define a generator using a function with the yield keyword.\n",
        "   def countdown(n):\n",
        "    while n > 0:\n",
        "        yield n\n",
        "        n -= 1\n",
        "    This function doesn’t run all at once. Instead, each time you call next(), it gives you the next value and remembers where it left off.\n",
        "\n",
        "7. What are the advantages of using generators over regular functions?\n",
        "   - Unlike a regular function, a generator does not return its results all at once. Instead, it yields its values one by one, each time it is called. This makes it possible to generate an infinite sequence of values, as long as there is sufficient memory to store them.\n",
        "\n",
        "8. What is a lambda function in Python and when is it typically used?\n",
        "   - A lambda function in Python is a small anonymous function defined with the lambda keyword. It’s mainly used for short, simple operations when defining a full function with def would be overkill.\n",
        "\n",
        "9.  Explain the purpose and usage of the map() function in Python.\n",
        "    -The map() function in Python is a super handy tool for applying a function to every item in an iterable (like a list or tuple), and it returns a map object (an iterator) with the results.\n",
        "\n",
        "10.  What is the difference between map(), reduce(), and filter() functions in Python?\n",
        "     - map(), reduce(), and filter() are all functional programming tools in Python that work on iterables (like lists, tuples, etc.). They each have a specific purpose:\n",
        "\n",
        "      map() – Transformation - Applies a function to every item in an iterable and returns a new iterator with the transformed values.\n",
        "      \n",
        "      filter() – Filtering\n",
        "Applies a function that returns True or False to each item and filters out the ones that return False.\n",
        "\n",
        "      reduce() – Aggregation\n",
        "Repeatedly applies a function to reduce the iterable to a single value.\n",
        "It's not built-in like the others—you need to import it: from functools import reduce\n",
        "\n",
        "11. . Using pen & Paper write the internal mechanism for sum operation using  reduce function on this given\n",
        "      \n",
        "      -Initial list: [47, 11, 42, 13]\n",
        "\n",
        "     47 + 11 = 58\n",
        "     58 + 42 = 100\n",
        "     100 + 13 = 113\n",
        "\n",
        "      Final result: 113"
      ],
      "metadata": {
        "id": "fCb7tSgx3IKf"
      }
    },
    {
      "cell_type": "code",
      "source": [
        "1. Write a Python function that takes a list of numbers as input and returns the sum of all even numbers in the list.\n",
        "\n",
        "\n",
        "my_list = [1, 2, 3, 4, 5, 6]\n",
        "result = sum_of_evens(my_list)\n",
        "print(\"Sum of even numbers:\", result)"
      ],
      "metadata": {
        "id": "gcAXY1tW3cyo"
      },
      "execution_count": null,
      "outputs": []
    },
    {
      "cell_type": "code",
      "source": [
        "2.Create a Python function that accepts a string and returns the reverse of that string.\n",
        "\n",
        "\n",
        "text = \"hello\"\n",
        "result = reverse_string(text)\n",
        "print(\"Reversed string:\", result)"
      ],
      "metadata": {
        "id": "HBwJ3FDF3jsz"
      },
      "execution_count": null,
      "outputs": []
    },
    {
      "cell_type": "code",
      "source": [
        "3. Implement a Python function that takes a list of integers and returns a new list containing the squares of\n",
        "each number.\n",
        "\n",
        "def square_numbers(nums):\n",
        "  \"\"\"\n",
        "  This function takes a list of numbers and returns a new list containing the squares of each number.\n",
        "  \"\"\"\n",
        "  return [num**2 for num in nums]\n",
        "\n",
        "nums = [1, 2, 3, 4, 5]\n",
        "result = square_numbers(nums)\n",
        "print(\"Squared numbers:\", result)"
      ],
      "metadata": {
        "id": "pzjJUuB-3pMW"
      },
      "execution_count": null,
      "outputs": []
    },
    {
      "cell_type": "code",
      "source": [
        "4. Write a Python function that checks if a given number is prime or not from 1 to 200\n",
        "def is_prime(n):\n",
        "    if n < 2:\n",
        "        return False  # 0 and 1 are not prime\n",
        "    for i in range(2, int(n ** 0.5) + 1):  # Check divisibility up to sqrt(n)\n",
        "        if n % i == 0:\n",
        "            return False\n",
        "    return True\n",
        "\n",
        "# Checking prime numbers from 1 to 200\n",
        "prime_numbers = [num for num in range(1, 201) if is_prime(num)]\n",
        "print(\"Prime numbers from 1 to 200:\", prime_numbers)"
      ],
      "metadata": {
        "id": "W6Ky-Q5A3tHq"
      },
      "execution_count": null,
      "outputs": []
    },
    {
      "cell_type": "code",
      "source": [
        "6. Write a generator function in Python that yields the powers of 2 up to a given exponent.\n",
        "def powers_of_two(max_exponent):\n",
        "    for exp in range(max_exponent + 1):  # Include max_exponent\n",
        "        yield 2 ** exp\n",
        "\n",
        "# ✅ Example Usage:\n",
        "for power in powers_of_two(5):\n",
        "    print(power, end=\" \")  # Output: 1 2 4 8 16 32"
      ],
      "metadata": {
        "id": "ax-cDQc-3659"
      },
      "execution_count": null,
      "outputs": []
    },
    {
      "cell_type": "code",
      "source": [
        "7.Implement a generator function that reads a file line by line and yields each line as a string.\n",
        "\n",
        "def read_file_line_by_line(file_path):\n",
        "    try:\n",
        "        with open(file_path, \"r\", encoding=\"utf-8\") as file:\n",
        "            for line in file:\n",
        "                yield line.strip()  # Remove trailing newlines & spaces\n",
        "    except FileNotFoundError:\n",
        "        print(f\"Error: The file '{file_path}' was not found.\")\n",
        "    except Exception as e:\n",
        "        print(f\"Error: {e}\")\n",
        "\n",
        "        # ✅ Example Usage:\n",
        "file_path = \"example.txt\"  # Make sure this file exists\n",
        "for line in read_file_line_by_line(file_path):\n",
        "    print(line)  # Prints each line from the file"
      ],
      "metadata": {
        "id": "MXI6MY7T39RB"
      },
      "execution_count": null,
      "outputs": []
    },
    {
      "cell_type": "code",
      "source": [
        "8. . Use a lambda function in Python to sort a list of tuples based on the second element of each tuple\n",
        "# Sample list of tuples\n",
        "tuples_list = [(1, 3), (4, 1), (2, 2), (5, 0)]\n",
        "\n",
        "# Sorting using a lambda function\n",
        "sorted_list = sorted(tuples_list, key=lambda x: x[1])\n",
        "\n",
        "# Print the sorted list\n",
        "print(sorted_list)"
      ],
      "metadata": {
        "id": "_SqgEdzg4FmW"
      },
      "execution_count": null,
      "outputs": []
    },
    {
      "cell_type": "code",
      "source": [
        "9.  Write a Python program that uses map() to convert a list of temperatures from Celsius to Fahrenheit.\n",
        "\n",
        "# Function to convert Celsius to Fahrenheit\n",
        "def celsius_to_fahrenheit(celsius):\n",
        "    return (celsius * 9/5) + 32\n",
        "\n",
        "# List of temperatures in Celsius\n",
        "celsius_temps = [0, 10, 20, 30, 40, 100]\n",
        "\n",
        "# Using map() to convert Celsius to Fahrenheit\n",
        "fahrenheit_temps = list(map(celsius_to_fahrenheit, celsius_temps))\n",
        "\n",
        "# Print the result\n",
        "print(\"Celsius:\", celsius_temps)\n",
        "print(\"Fahrenheit:\", fahrenheit_temps)"
      ],
      "metadata": {
        "id": "nSzrh8cT4I_0"
      },
      "execution_count": null,
      "outputs": []
    },
    {
      "cell_type": "code",
      "source": [
        "10. Create a Python program that uses filter() to remove all the vowels from a given string.\n",
        "def remove_vowels(s):\n",
        "    vowels = \"aeiouAEIOU\"\n",
        "    return \"\".join(filter(lambda char: char not in vowels, s))\n",
        "\n",
        "# Example Usage\n",
        "input_string = \"Hello, World!\"\n",
        "output_string = remove_vowels(input_string)\n",
        "\n",
        "print(\"Original String:\", input_string)\n",
        "print(\"String without Vowels:\", output_string)"
      ],
      "metadata": {
        "id": "Osdjl2lS4MAx"
      },
      "execution_count": null,
      "outputs": []
    },
    {
      "cell_type": "code",
      "source": [
        "11. Write a Python program, which returns a list with 2-tuples. Each tuple consists of the order number and the\n",
        "product of the price per item and the quantity. The product should be increased by 10,- € if the value of the\n",
        "order is smaller than 100,00 €.\n",
        "\n",
        "# Given bookshop data: (Order Number, Book Title, Quantity, Price per Item)\n",
        "orders = [\n",
        "    (34587, \"Learning Python, Mark Lutz\", 4, 40.95),\n",
        "    (98762, \"Programming Python, Mark Lutz\", 5, 56.80),\n",
        "    (77226, \"Head First Python, Paul Barry\", 3, 32.95),\n",
        "    (88112, \"Einführung in Python3, Bernd Klein\", 3, 24.99)\n",
        "]\n",
        "\n",
        "# Using map() and lambda to calculate total order value\n",
        "processed_orders = list(map(lambda order: (order[0],\n",
        "                    order[2] * order[3] + (10 if order[2] * order[3] < 100 else 0)), orders))\n",
        "\n",
        "# Print the result\n",
        "print(processed_orders)"
      ],
      "metadata": {
        "id": "6rlm-DAQ4OWW"
      },
      "execution_count": null,
      "outputs": []
    }
  ]
}